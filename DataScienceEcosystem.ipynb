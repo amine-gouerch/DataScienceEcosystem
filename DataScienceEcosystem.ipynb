{
 "cells": [
  {
   "cell_type": "markdown",
   "id": "888bb7ba",
   "metadata": {},
   "source": [
    "# Data Science Tools and Ecosystem\n"
   ]
  },
  {
   "cell_type": "markdown",
   "id": "2c6c7eda",
   "metadata": {},
   "source": [
    "In this notebook, Data Science Tools and Ecosystem are summarized.\n"
   ]
  },
  {
   "cell_type": "markdown",
   "id": "9a0174e7",
   "metadata": {},
   "source": [
    "Some of the popular languages that Data Scientists use are:\n",
    "\n",
    "1. **Python**: Python is one of the most widely used programming languages in data science. It offers a rich ecosystem of libraries and tools for data manipulation, analysis, and machine learning, including libraries like NumPy, pandas, scikit-learn, and more.\n",
    "\n",
    "2. **R**: R is a programming language specifically designed for statistical analysis and data visualization. Data scientists often use R for tasks like data exploration, statistical modeling, and creating data visualizations with packages like ggplot2.\n",
    "\n",
    "3. **SQL (Structured Query Language)**: While not a traditional programming language, SQL is essential for data manipulation and querying relational databases. Data scientists frequently use SQL to extract, transform, and analyze data stored in databases."
   ]
  },
  {
   "cell_type": "markdown",
   "id": "b7ac5e74",
   "metadata": {},
   "source": [
    "Some of the commonly used libraries used by Data Scientists include:\n",
    "\n",
    "1. **NumPy**: NumPy is a fundamental library for numerical computing in Python. It provides support for large, multi-dimensional arrays and matrices, as well as a variety of mathematical functions to operate on these arrays.\n",
    "\n",
    "2. **pandas**: pandas is a data manipulation library for Python. It offers data structures like DataFrame and Series, making it easy to clean, transform, and analyze structured data.\n",
    "\n",
    "3. **Matplotlib**: Matplotlib is a widely used data visualization library in Python. It allows data scientists to create a wide range of static, animated, or interactive plots and charts.\n",
    "\n",
    "4. **scikit-learn**: scikit-learn is a machine learning library for Python. It provides tools for data mining and data analysis and supports various machine learning algorithms, making it a valuable resource for building predictive models.\n",
    "\n"
   ]
  },
  {
   "cell_type": "markdown",
   "id": "796b60c1",
   "metadata": {},
   "source": [
    "| Data Science Tools     |\n",
    "|-----------------------|\n",
    "| Development Environment| \n",
    "|-----------------------|\n",
    "| Jupyter Notebook      |\n",
    "| RStudio               |\n",
    "| VS Code with Python   |\n"
   ]
  },
  {
   "cell_type": "markdown",
   "id": "180205ac",
   "metadata": {},
   "source": [
    "### Examples of Evaluating Arithmetic Expressions in Python\n",
    "\n",
    "In this section, we'll explore a few examples of evaluating arithmetic expressions in Python.\n"
   ]
  },
  {
   "cell_type": "code",
   "execution_count": 3,
   "id": "ee01ffaa",
   "metadata": {},
   "outputs": [
    {
     "data": {
      "text/plain": [
       "17"
      ]
     },
     "execution_count": 3,
     "metadata": {},
     "output_type": "execute_result"
    }
   ],
   "source": [
    "# This is a simple arithmetic expression to multiply then add integers.\n",
    "result = (3 * 4) + 5\n",
    "result\n"
   ]
  },
  {
   "cell_type": "code",
   "execution_count": 4,
   "id": "16773112",
   "metadata": {},
   "outputs": [
    {
     "data": {
      "text/plain": [
       "3.3333333333333335"
      ]
     },
     "execution_count": 4,
     "metadata": {},
     "output_type": "execute_result"
    }
   ],
   "source": [
    "# This will convert 200 minutes to hours by diving by 60.\n",
    "hours = 200/60\n",
    "hours"
   ]
  },
  {
   "cell_type": "markdown",
   "id": "677070ec",
   "metadata": {},
   "source": [
    "**Objectives:**\n",
    "\n",
    "- List popular languages for Data Science.\n",
    "- Introduce commonly used data science libraries.\n",
    "- Demonstrate arithmetic operations in Python.\n",
    "- Convert minutes to hours using Python.\n",
    "- Provide examples of evaluating arithmetic expressions.\n"
   ]
  },
  {
   "cell_type": "markdown",
   "id": "de71c9f0",
   "metadata": {},
   "source": [
    "## Author\n",
    "\n",
    "Mohamed Amine Gouerch\n"
   ]
  },
  {
   "cell_type": "code",
   "execution_count": null,
   "id": "44d6172c",
   "metadata": {},
   "outputs": [],
   "source": []
  }
 ],
 "metadata": {
  "kernelspec": {
   "display_name": "Python 3 (ipykernel)",
   "language": "python",
   "name": "python3"
  },
  "language_info": {
   "codemirror_mode": {
    "name": "ipython",
    "version": 3
   },
   "file_extension": ".py",
   "mimetype": "text/x-python",
   "name": "python",
   "nbconvert_exporter": "python",
   "pygments_lexer": "ipython3",
   "version": "3.10.9"
  }
 },
 "nbformat": 4,
 "nbformat_minor": 5
}
